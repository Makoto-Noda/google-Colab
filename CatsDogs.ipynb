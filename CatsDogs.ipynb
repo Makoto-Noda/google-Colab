{
  "nbformat": 4,
  "nbformat_minor": 0,
  "metadata": {
    "colab": {
      "provenance": [],
      "mount_file_id": "https://github.com/Makoto-Noda/google-Colab/blob/main/CatsDogs.ipynb",
      "authorship_tag": "ABX9TyORh1o/+ozH4PXu5b5rWZ0D",
      "include_colab_link": true
    },
    "kernelspec": {
      "name": "python3",
      "display_name": "Python 3"
    },
    "language_info": {
      "name": "python"
    }
  },
  "cells": [
    {
      "cell_type": "markdown",
      "metadata": {
        "id": "view-in-github",
        "colab_type": "text"
      },
      "source": [
        "<a href=\"https://colab.research.google.com/github/Makoto-Noda/google-Colab/blob/main/CatsDogs.ipynb\" target=\"_parent\"><img src=\"https://colab.research.google.com/assets/colab-badge.svg\" alt=\"Open In Colab\"/></a>"
      ]
    },
    {
      "cell_type": "markdown",
      "source": [
        "https://www.kaggle.com/code/jeffd23/catdognet-keras-convnet-starter"
      ],
      "metadata": {
        "id": "4sSz1ZNHJAYl"
      }
    },
    {
      "cell_type": "code",
      "execution_count": null,
      "metadata": {
        "id": "QerXcsBkoBOD"
      },
      "outputs": [],
      "source": [
        "import os, cv2, random\n",
        "import numpy as np\n",
        "import pandas as pd\n",
        "\n",
        "import matplotlib.pyplot as plt\n",
        "from matplotlib import ticker\n",
        "import seaborn as sns\n",
        "%matplotlib inline"
      ]
    },
    {
      "cell_type": "code",
      "source": [
        "from google.colab import drive\n",
        "drive.mount('/content/drive')"
      ],
      "metadata": {
        "id": "vbAZrc8ZJnod",
        "outputId": "6c279e15-b6eb-4201-fc62-83f3b95034ae",
        "colab": {
          "base_uri": "https://localhost:8080/"
        }
      },
      "execution_count": null,
      "outputs": [
        {
          "output_type": "stream",
          "name": "stdout",
          "text": [
            "Mounted at /content/drive\n"
          ]
        }
      ]
    },
    {
      "cell_type": "code",
      "source": [
        "import os\n",
        "import json\n",
        "f = open(\"/content/drive/MyDrive/kaggle.json\", 'r')\n",
        "json_data = json.load(f)\n",
        "os.environ['KAGGLE_USERNAME'] = json_data['username']\n",
        "os.environ['KAGGLE_KEY'] = json_data['key']"
      ],
      "metadata": {
        "id": "1A25ZqqwLhPT"
      },
      "execution_count": 7,
      "outputs": []
    },
    {
      "cell_type": "code",
      "source": [
        "!kaggle competitions download -c dogs-vs-cats-redux-kernels-edition"
      ],
      "metadata": {
        "id": "zBTtTGvRJoXB",
        "outputId": "ee0e2276-9e73-4530-a79e-d73cb106012b",
        "colab": {
          "base_uri": "https://localhost:8080/"
        }
      },
      "execution_count": 8,
      "outputs": [
        {
          "output_type": "stream",
          "name": "stdout",
          "text": [
            "Downloading dogs-vs-cats-redux-kernels-edition.zip to /content\n",
            " 98% 800M/814M [00:13<00:00, 136MB/s]\n",
            "100% 814M/814M [00:13<00:00, 64.4MB/s]\n"
          ]
        }
      ]
    },
    {
      "cell_type": "markdown",
      "source": [
        "トレーニングデータ・テストデータの作成"
      ],
      "metadata": {
        "id": "L_seGb4fNJK1"
      }
    },
    {
      "cell_type": "code",
      "source": [
        "TRAIN_DIR = './train/'\n",
        "TEST_DIR = './test/'"
      ],
      "metadata": {
        "id": "G1bJPh7uMG11"
      },
      "execution_count": 13,
      "outputs": []
    },
    {
      "cell_type": "code",
      "source": [
        "ROWS = 64\n",
        "COLS = 64\n",
        "CHANNELS = 3"
      ],
      "metadata": {
        "id": "oz9vsHaVNMKc"
      },
      "execution_count": 14,
      "outputs": []
    },
    {
      "cell_type": "code",
      "source": [
        "train_images = [TRAIN_DIR+i for i in os.listdir(TRAIN_DIR)]\n",
        "train_dogs =   [TRAIN_DIR+i for i in os.listdir(TRAIN_DIR) if 'dog' in i]\n",
        "train_cats =   [TRAIN_DIR+i for i in os.listdir(TRAIN_DIR) if 'cat' in i]\n",
        "\n",
        "test_images =  [TEST_DIR+i for i in os.listdir(TEST_DIR)]"
      ],
      "metadata": {
        "id": "uEduSLlhNW5s"
      },
      "execution_count": 16,
      "outputs": []
    },
    {
      "cell_type": "code",
      "source": [
        "train_images = train_dogs[:1000] + train_cats[:1000]\n",
        "random.shuffle(train_images)\n",
        "test_images =  test_images[:25]"
      ],
      "metadata": {
        "id": "mfXVWPC6NsIB"
      },
      "execution_count": 17,
      "outputs": []
    },
    {
      "cell_type": "code",
      "source": [],
      "metadata": {
        "id": "dCrkD4wHOaUT"
      },
      "execution_count": null,
      "outputs": []
    }
  ]
}